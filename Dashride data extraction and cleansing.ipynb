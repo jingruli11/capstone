{
 "cells": [
  {
   "cell_type": "markdown",
   "metadata": {},
   "source": [
    "# Dashride Data Exploration"
   ]
  },
  {
   "cell_type": "markdown",
   "metadata": {},
   "source": [
    "## 1. Data Extraction and cleansing"
   ]
  },
  {
   "cell_type": "code",
   "execution_count": 1,
   "metadata": {
    "collapsed": true
   },
   "outputs": [],
   "source": [
    "# import libraries\n",
    "import pandas as pd\n",
    "import numpy as np\n",
    "import matplotlib.pyplot as plt\n",
    "import datetime\n",
    "import timeit"
   ]
  },
  {
   "cell_type": "code",
   "execution_count": 6,
   "metadata": {
    "collapsed": false
   },
   "outputs": [
    {
     "data": {
      "text/html": [
       "<div>\n",
       "<style>\n",
       "    .dataframe thead tr:only-child th {\n",
       "        text-align: right;\n",
       "    }\n",
       "\n",
       "    .dataframe thead th {\n",
       "        text-align: left;\n",
       "    }\n",
       "\n",
       "    .dataframe tbody tr th {\n",
       "        vertical-align: top;\n",
       "    }\n",
       "</style>\n",
       "<table border=\"1\" class=\"dataframe\">\n",
       "  <thead>\n",
       "    <tr style=\"text-align: right;\">\n",
       "      <th></th>\n",
       "      <th>reservationNumber</th>\n",
       "      <th>from</th>\n",
       "      <th>passengers</th>\n",
       "      <th>rider</th>\n",
       "      <th>serviceLevel</th>\n",
       "      <th>scheduledTime</th>\n",
       "      <th>start_lt</th>\n",
       "      <th>start_lg</th>\n",
       "      <th>end_lt</th>\n",
       "      <th>end_lg</th>\n",
       "    </tr>\n",
       "  </thead>\n",
       "  <tbody>\n",
       "    <tr>\n",
       "      <th>0</th>\n",
       "      <td>RES-Q1HKZK</td>\n",
       "      <td>5175 South Old Peachtree Road, Norcross, GA, U...</td>\n",
       "      <td>1</td>\n",
       "      <td>585eeca79b1441f8923662ed</td>\n",
       "      <td>standard</td>\n",
       "      <td>2017-06-08T20:09:00.000Z</td>\n",
       "      <td>33.969514</td>\n",
       "      <td>-84.207254</td>\n",
       "      <td>33.979448</td>\n",
       "      <td>-84.195755</td>\n",
       "    </tr>\n",
       "    <tr>\n",
       "      <th>1</th>\n",
       "      <td>RES-Q1H68F</td>\n",
       "      <td>2979, Lake Colony, Lake Colony Drive Northwest...</td>\n",
       "      <td>1</td>\n",
       "      <td>572763e3c9c845d866b9badc</td>\n",
       "      <td>standard</td>\n",
       "      <td>2017-06-08T20:07:00.000Z</td>\n",
       "      <td>33.930708</td>\n",
       "      <td>-84.259075</td>\n",
       "      <td>33.946081</td>\n",
       "      <td>-84.241015</td>\n",
       "    </tr>\n",
       "    <tr>\n",
       "      <th>2</th>\n",
       "      <td>RES-Q1GV1Z</td>\n",
       "      <td>Casa Blanca Restaurant, Peachtree Industrial B...</td>\n",
       "      <td>1</td>\n",
       "      <td>591971fd7fffbb38fbdbf3a6</td>\n",
       "      <td>standard</td>\n",
       "      <td>2017-06-08T20:05:00.000Z</td>\n",
       "      <td>33.929286</td>\n",
       "      <td>-84.267367</td>\n",
       "      <td>33.944177</td>\n",
       "      <td>-84.241429</td>\n",
       "    </tr>\n",
       "    <tr>\n",
       "      <th>3</th>\n",
       "      <td>RES-Q1GCJA</td>\n",
       "      <td>LA Fitness, Jimmy Carter Boulevard, Norcross, ...</td>\n",
       "      <td>1</td>\n",
       "      <td>573f75b7e0588bc00d12790e</td>\n",
       "      <td>standard</td>\n",
       "      <td>2017-06-08T20:04:00.000Z</td>\n",
       "      <td>33.947417</td>\n",
       "      <td>-84.241758</td>\n",
       "      <td>33.960076</td>\n",
       "      <td>-84.249217</td>\n",
       "    </tr>\n",
       "    <tr>\n",
       "      <th>4</th>\n",
       "      <td>RES-Q1G54R</td>\n",
       "      <td>Little Caesars Pizza, Holcomb Bridge Road, Nor...</td>\n",
       "      <td>2</td>\n",
       "      <td>58dd445eb47957072ebe26ae</td>\n",
       "      <td>standard</td>\n",
       "      <td>2017-06-08T20:01:00.000Z</td>\n",
       "      <td>33.952770</td>\n",
       "      <td>-84.241511</td>\n",
       "      <td>33.952311</td>\n",
       "      <td>-84.241521</td>\n",
       "    </tr>\n",
       "  </tbody>\n",
       "</table>\n",
       "</div>"
      ],
      "text/plain": [
       "  reservationNumber                                               from  \\\n",
       "0        RES-Q1HKZK  5175 South Old Peachtree Road, Norcross, GA, U...   \n",
       "1        RES-Q1H68F  2979, Lake Colony, Lake Colony Drive Northwest...   \n",
       "2        RES-Q1GV1Z  Casa Blanca Restaurant, Peachtree Industrial B...   \n",
       "3        RES-Q1GCJA  LA Fitness, Jimmy Carter Boulevard, Norcross, ...   \n",
       "4        RES-Q1G54R  Little Caesars Pizza, Holcomb Bridge Road, Nor...   \n",
       "\n",
       "   passengers                     rider serviceLevel  \\\n",
       "0           1  585eeca79b1441f8923662ed     standard   \n",
       "1           1  572763e3c9c845d866b9badc     standard   \n",
       "2           1  591971fd7fffbb38fbdbf3a6     standard   \n",
       "3           1  573f75b7e0588bc00d12790e     standard   \n",
       "4           2  58dd445eb47957072ebe26ae     standard   \n",
       "\n",
       "              scheduledTime   start_lt   start_lg     end_lt     end_lg  \n",
       "0  2017-06-08T20:09:00.000Z  33.969514 -84.207254  33.979448 -84.195755  \n",
       "1  2017-06-08T20:07:00.000Z  33.930708 -84.259075  33.946081 -84.241015  \n",
       "2  2017-06-08T20:05:00.000Z  33.929286 -84.267367  33.944177 -84.241429  \n",
       "3  2017-06-08T20:04:00.000Z  33.947417 -84.241758  33.960076 -84.249217  \n",
       "4  2017-06-08T20:01:00.000Z  33.952770 -84.241511  33.952311 -84.241521  "
      ]
     },
     "execution_count": 6,
     "metadata": {},
     "output_type": "execute_result"
    }
   ],
   "source": [
    "# load dataset into dataframe and filter out service level other than 'standard'\n",
    "df = pd.read_csv('dataframe.csv', sep = ',', index_col = 0)\n",
    "df = df[df['serviceLevel'] == 'standard']\n",
    "df.head()"
   ]
  },
  {
   "cell_type": "code",
   "execution_count": null,
   "metadata": {
    "collapsed": true
   },
   "outputs": [],
   "source": [
    "# convert scheduledTime from string to datetime variable type\n"
   ]
  },
  {
   "cell_type": "code",
   "execution_count": null,
   "metadata": {
    "collapsed": true
   },
   "outputs": [],
   "source": []
  }
 ],
 "metadata": {
  "kernelspec": {
   "display_name": "Python 3",
   "language": "python",
   "name": "python3"
  },
  "language_info": {
   "codemirror_mode": {
    "name": "ipython",
    "version": 3
   },
   "file_extension": ".py",
   "mimetype": "text/x-python",
   "name": "python",
   "nbconvert_exporter": "python",
   "pygments_lexer": "ipython3",
   "version": "3.6.0"
  }
 },
 "nbformat": 4,
 "nbformat_minor": 2
}
