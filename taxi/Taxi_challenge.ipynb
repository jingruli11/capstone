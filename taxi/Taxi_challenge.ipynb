{
 "cells": [
  {
   "cell_type": "markdown",
   "metadata": {},
   "source": [
    "# Taxi Data Challenge\n",
    "\n",
    "## Overview\n",
    "\n",
    "This notebook analyzes the NYC taxi trips data.\n",
    "\n",
    "### Analysis questions:\n",
    "1.\tHow would you assess the efficiency of aggregating rides within Astoria? From Astoria to Manhattan? From Manhattan to Astoria?\n",
    "2.\tHow does this compare to our current area of service (e.g. the Upper East Side)?\n",
    "3.\tWould you provide rides only within Astoria for this new service or also between Astoria and Manhattan? Why? For reference, Via started as a commuter service between the Upper East Side and Midtown.\n",
    "4.\tWould you launch Astoria service during all our hours of operation (24/7) or only for certain hours? If so - which hours?\n",
    "\n",
    "### Statistical questions \n",
    "\n",
    "*answer these theoretically, no need to implement:*\n",
    "\n",
    "5.\tIf you were given a metric for efficiency (assume you don't know how it's calculated), how would you determine whether a specific zone is more efficient than the rest of the city? How would you determine why it’s more efficient?\n",
    "6.\t How would you compare the distributions of intra-city trip prices between two different cities? How would you test whether any differences you find are explained by distance and duration?\n",
    "\n",
    "### Analysis assumptions\n",
    "\n",
    "1. seasonality is not considered in this analysis\n",
    "2. trip distance is used as the distance between 2 locations. Although some trips may take deviation, we assume that is not likely for simplicity.\n",
    "3. efficiency is measured in 3 measures: passenger per trip, time vs distance"
   ]
  },
  {
   "cell_type": "markdown",
   "metadata": {},
   "source": [
    "## Environment Setup"
   ]
  },
  {
   "cell_type": "code",
   "execution_count": 54,
   "metadata": {
    "collapsed": false
   },
   "outputs": [],
   "source": [
    "import pandas as pd\n",
    "import numpy as np\n",
    "import datetime\n",
    "import scipy\n",
    "import sklearn\n",
    "import matplotlib.pyplot as plt\n",
    "import seaborn as sns\n",
    "import shapefile as shp\n",
    "import glob\n",
    "import os"
   ]
  },
  {
   "cell_type": "markdown",
   "metadata": {},
   "source": [
    "## Data Extraction and Transformation"
   ]
  },
  {
   "cell_type": "code",
   "execution_count": 55,
   "metadata": {
    "collapsed": false
   },
   "outputs": [],
   "source": [
    "# load data into dataframe\n",
    "# the data is 2016_06 yellow cab and green cab data\n",
    "df_yellow = pd.read_csv('trip_data/yellow_tripdata_2016-06.csv', header = 0)\n",
    "df_green = pd.read_csv('trip_data/green_tripdata_2016-06.csv', header = 0)"
   ]
  },
  {
   "cell_type": "code",
   "execution_count": 56,
   "metadata": {
    "collapsed": false
   },
   "outputs": [
    {
     "data": {
      "text/plain": [
       "(11135470, 19)"
      ]
     },
     "execution_count": 56,
     "metadata": {},
     "output_type": "execute_result"
    }
   ],
   "source": [
    "# count of total records\n",
    "df_yellow.shape"
   ]
  },
  {
   "cell_type": "code",
   "execution_count": 57,
   "metadata": {
    "collapsed": false
   },
   "outputs": [
    {
     "data": {
      "text/plain": [
       "VendorID                   int64\n",
       "tpep_pickup_datetime      object\n",
       "tpep_dropoff_datetime     object\n",
       "passenger_count            int64\n",
       "trip_distance            float64\n",
       "pickup_longitude         float64\n",
       "pickup_latitude          float64\n",
       "RatecodeID                 int64\n",
       "store_and_fwd_flag        object\n",
       "dropoff_longitude        float64\n",
       "dropoff_latitude         float64\n",
       "payment_type               int64\n",
       "fare_amount              float64\n",
       "extra                    float64\n",
       "mta_tax                  float64\n",
       "tip_amount               float64\n",
       "tolls_amount             float64\n",
       "improvement_surcharge    float64\n",
       "total_amount             float64\n",
       "dtype: object"
      ]
     },
     "execution_count": 57,
     "metadata": {},
     "output_type": "execute_result"
    }
   ],
   "source": [
    "# print schema\n",
    "df_yellow.dtypes"
   ]
  },
  {
   "cell_type": "code",
   "execution_count": 58,
   "metadata": {
    "collapsed": true
   },
   "outputs": [],
   "source": [
    "# convert pick up and drop off datetime from string to datetime variable type\n",
    "df_yellow['pickup_datetime'] = pd.to_datetime(df_yellow['tpep_pickup_datetime'],format = '%Y-%m-%d %H:%M:%S')\n",
    "df_yellow['dropoff_datetime'] = pd.to_datetime(df_yellow['tpep_dropoff_datetime'],format = '%Y-%m-%d %H:%M:%S')\n",
    "# create a duration column in minutes\n",
    "df_yellow['timeDifference'] = df_yellow['dropoff_datetime'] - df_yellow['pickup_datetime']\n",
    "df_yellow['duration'] = df_yellow['timeDifference'].dt.seconds/60\n",
    "# drop irrelevant columns\n",
    "cols_to_drop = ['VendorID', 'tpep_pickup_datetime', 'tpep_dropoff_datetime', 'store_and_fwd_flag', 'payment_type',\n",
    "               'fare_amount', 'extra', 'mta_tax', 'tolls_amount', 'improvement_surcharge']\n",
    "df_yellow.drop(cols_to_drop, axis = 1, inplace = True)\n",
    "df_yellow.rename(str.lower, axis='columns', inplace=True)"
   ]
  },
  {
   "cell_type": "code",
   "execution_count": 59,
   "metadata": {
    "collapsed": false
   },
   "outputs": [
    {
     "data": {
      "text/plain": [
       "passenger_count                int64\n",
       "trip_distance                float64\n",
       "pickup_longitude             float64\n",
       "pickup_latitude              float64\n",
       "ratecodeid                     int64\n",
       "dropoff_longitude            float64\n",
       "dropoff_latitude             float64\n",
       "tip_amount                   float64\n",
       "total_amount                 float64\n",
       "pickup_datetime       datetime64[ns]\n",
       "dropoff_datetime      datetime64[ns]\n",
       "timedifference       timedelta64[ns]\n",
       "duration                     float64\n",
       "dtype: object"
      ]
     },
     "execution_count": 59,
     "metadata": {},
     "output_type": "execute_result"
    }
   ],
   "source": [
    "# print schema\n",
    "df_yellow.dtypes"
   ]
  },
  {
   "cell_type": "code",
   "execution_count": 60,
   "metadata": {
    "collapsed": false
   },
   "outputs": [
    {
     "data": {
      "text/plain": [
       "(1404726, 21)"
      ]
     },
     "execution_count": 60,
     "metadata": {},
     "output_type": "execute_result"
    }
   ],
   "source": [
    "# count of total records\n",
    "df_green.shape"
   ]
  },
  {
   "cell_type": "code",
   "execution_count": 61,
   "metadata": {
    "collapsed": false
   },
   "outputs": [
    {
     "data": {
      "text/plain": [
       "VendorID                   int64\n",
       "lpep_pickup_datetime      object\n",
       "Lpep_dropoff_datetime     object\n",
       "Store_and_fwd_flag        object\n",
       "RateCodeID                 int64\n",
       "Pickup_longitude         float64\n",
       "Pickup_latitude          float64\n",
       "Dropoff_longitude        float64\n",
       "Dropoff_latitude         float64\n",
       "Passenger_count            int64\n",
       "Trip_distance            float64\n",
       "Fare_amount              float64\n",
       "Extra                    float64\n",
       "MTA_tax                  float64\n",
       "Tip_amount               float64\n",
       "Tolls_amount             float64\n",
       "Ehail_fee                float64\n",
       "improvement_surcharge    float64\n",
       "Total_amount             float64\n",
       "Payment_type               int64\n",
       "Trip_type                float64\n",
       "dtype: object"
      ]
     },
     "execution_count": 61,
     "metadata": {},
     "output_type": "execute_result"
    }
   ],
   "source": [
    "# print schema\n",
    "df_green.dtypes"
   ]
  },
  {
   "cell_type": "code",
   "execution_count": 62,
   "metadata": {
    "collapsed": false
   },
   "outputs": [],
   "source": [
    "# convert pick up and drop off datetime from string to datetime variable type\n",
    "df_green['pickup_datetime'] = pd.to_datetime(df_green['lpep_pickup_datetime'],format = '%Y-%m-%d %H:%M:%S')\n",
    "df_green['dropoff_datetime'] = pd.to_datetime(df_green['Lpep_dropoff_datetime'],format = '%Y-%m-%d %H:%M:%S')\n",
    "# create a duration column in minutes\n",
    "df_green['timeDifference'] = df_green['dropoff_datetime'] - df_green['pickup_datetime']\n",
    "df_green['duration'] = df_green['timeDifference'].dt.seconds/60\n",
    "# drop irrelevant columns\n",
    "cols_to_drop = ['VendorID', 'lpep_pickup_datetime', 'Lpep_dropoff_datetime', 'Store_and_fwd_flag', 'Payment_type',\n",
    "               'Fare_amount', 'Extra', 'MTA_tax', 'Ehail_fee', 'Tolls_amount', 'Trip_type ', 'improvement_surcharge']\n",
    "df_green.drop(cols_to_drop, axis = 1, inplace = True)\n",
    "df_green.rename(str.lower, axis='columns', inplace=True)"
   ]
  },
  {
   "cell_type": "code",
   "execution_count": 63,
   "metadata": {
    "collapsed": false
   },
   "outputs": [
    {
     "data": {
      "text/plain": [
       "ratecodeid                     int64\n",
       "pickup_longitude             float64\n",
       "pickup_latitude              float64\n",
       "dropoff_longitude            float64\n",
       "dropoff_latitude             float64\n",
       "passenger_count                int64\n",
       "trip_distance                float64\n",
       "tip_amount                   float64\n",
       "total_amount                 float64\n",
       "pickup_datetime       datetime64[ns]\n",
       "dropoff_datetime      datetime64[ns]\n",
       "timedifference       timedelta64[ns]\n",
       "duration                     float64\n",
       "dtype: object"
      ]
     },
     "execution_count": 63,
     "metadata": {},
     "output_type": "execute_result"
    }
   ],
   "source": [
    "# print schema\n",
    "df_green.dtypes"
   ]
  },
  {
   "cell_type": "code",
   "execution_count": 64,
   "metadata": {
    "collapsed": true
   },
   "outputs": [],
   "source": [
    "# concat yellow and green dataframe together\n",
    "df = pd.concat([df_yellow, df_green], axis = 0, ignore_index=True)\n",
    "df.dropna(inplace = True)"
   ]
  },
  {
   "cell_type": "markdown",
   "metadata": {},
   "source": [
    "## Preliminary Data Exploration and Cleaning"
   ]
  },
  {
   "cell_type": "code",
   "execution_count": 65,
   "metadata": {
    "collapsed": false
   },
   "outputs": [
    {
     "data": {
      "text/plain": [
       "1    9085157\n",
       "2    1714645\n",
       "5     625459\n",
       "3     498597\n",
       "6     381240\n",
       "4     234169\n",
       "0        754\n",
       "7         88\n",
       "8         62\n",
       "9         25\n",
       "Name: passenger_count, dtype: int64"
      ]
     },
     "execution_count": 65,
     "metadata": {},
     "output_type": "execute_result"
    }
   ],
   "source": [
    "# counts for each passenger count value\n",
    "df['passenger_count'].value_counts()"
   ]
  },
  {
   "cell_type": "markdown",
   "metadata": {},
   "source": [
    "- From the table above, one can infer that the regular passenger should be 1 to 6.\n",
    "- This is matching the vehicle size assumption.\n",
    "- Thus other values for passenger count (0, 7, 8, 9) will be dropped."
   ]
  },
  {
   "cell_type": "code",
   "execution_count": 66,
   "metadata": {
    "collapsed": false
   },
   "outputs": [],
   "source": [
    "# drop records where passenger count is 0, or passenger count is > 6\n",
    "df.drop(df[(df.passenger_count == 0) | (df.passenger_count > 6)].index, inplace = True)"
   ]
  },
  {
   "cell_type": "code",
   "execution_count": 67,
   "metadata": {
    "collapsed": false
   },
   "outputs": [
    {
     "data": {
      "text/plain": [
       "count    1.253927e+07\n",
       "mean     3.025663e+00\n",
       "std      2.059633e+01\n",
       "min      0.000000e+00\n",
       "25%      1.000000e+00\n",
       "50%      1.740000e+00\n",
       "75%      3.300000e+00\n",
       "max      7.173270e+04\n",
       "Name: trip_distance, dtype: float64"
      ]
     },
     "execution_count": 67,
     "metadata": {},
     "output_type": "execute_result"
    }
   ],
   "source": [
    "# statistics for distance column\n",
    "df.trip_distance.describe()"
   ]
  },
  {
   "cell_type": "code",
   "execution_count": 68,
   "metadata": {
    "collapsed": false
   },
   "outputs": [
    {
     "data": {
      "image/png": "[encoded data removed]",
      "text/plain": [
       "<matplotlib.figure.Figure at 0x125157320>"
      ]
     },
     "metadata": {},
     "output_type": "display_data"
    }
   ],
   "source": [
    "# histogram of trip distance for trip under 100 miles\n",
    "# 100 mile is selected as a heuristic bound\n",
    "plt.figure()\n",
    "plt.title('Trip Distance Histogram')\n",
    "sns.distplot(df[df['trip_distance']<100]['trip_distance'])\n",
    "plt.show()"
   ]
  },
  {
   "cell_type": "markdown",
   "metadata": {},
   "source": [
    "From the graph, it is evident that most trips are under 20 miles. We can take 30 as the upper bound as a conservative number and drop other records."
   ]
  },
  {
   "cell_type": "code",
   "execution_count": 69,
   "metadata": {
    "collapsed": true
   },
   "outputs": [],
   "source": [
    "# drop records where trip distance is greater than 30 or trip distance is 0\n",
    "df.drop(df[(df['trip_distance']>30) | (df['trip_distance'] == 0)].index, inplace = True)"
   ]
  },
  {
   "cell_type": "code",
   "execution_count": 70,
   "metadata": {
    "collapsed": false
   },
   "outputs": [
    {
     "data": {
      "text/plain": [
       "(12445270, 13)"
      ]
     },
     "execution_count": 70,
     "metadata": {},
     "output_type": "execute_result"
    }
   ],
   "source": [
    "# count relevant records\n",
    "df.shape"
   ]
  },
  {
   "cell_type": "code",
   "execution_count": 71,
   "metadata": {
    "collapsed": false
   },
   "outputs": [
    {
     "data": {
      "text/plain": [
       "count    1.244527e+07\n",
       "mean     1.767089e+01\n",
       "std      6.403940e+01\n",
       "min      0.000000e+00\n",
       "25%      6.866667e+00\n",
       "50%      1.151667e+01\n",
       "75%      1.891667e+01\n",
       "max      1.439983e+03\n",
       "Name: duration, dtype: float64"
      ]
     },
     "execution_count": 71,
     "metadata": {},
     "output_type": "execute_result"
    }
   ],
   "source": [
    "# duration statistics\n",
    "df['duration'].describe()"
   ]
  },
  {
   "cell_type": "code",
   "execution_count": 72,
   "metadata": {
    "collapsed": false
   },
   "outputs": [
    {
     "data": {
      "image/png": "[encoded data removed]",
      "text/plain": [
       "<matplotlib.figure.Figure at 0x1312a7d30>"
      ]
     },
     "metadata": {},
     "output_type": "display_data"
    }
   ],
   "source": [
    "# histogram of duration for trip under 200 minutes\n",
    "# 200 minutes is selected as a heuristic bound\n",
    "plt.figure()\n",
    "plt.title('Duration Histogram')\n",
    "sns.distplot(df[df['duration']<200]['duration'], bins = 200)\n",
    "plt.show()"
   ]
  },
  {
   "cell_type": "markdown",
   "metadata": {},
   "source": [
    "From the graph, it is easy to see that the majority of the trip's duration is under 75 minutes. We can choose 100 as the conservative upper bound and drop records with duration above 100 minutes."
   ]
  },
  {
   "cell_type": "code",
   "execution_count": 73,
   "metadata": {
    "collapsed": true
   },
   "outputs": [],
   "source": [
    "# drop records where duration is greater than 100 or duration is 0\n",
    "df.drop(df[(df['duration']>100) | (df['duration'] == 0)].index, inplace = True)"
   ]
  },
  {
   "cell_type": "code",
   "execution_count": 74,
   "metadata": {
    "collapsed": false
   },
   "outputs": [
    {
     "data": {
      "text/plain": [
       "(12410990, 13)"
      ]
     },
     "execution_count": 74,
     "metadata": {},
     "output_type": "execute_result"
    }
   ],
   "source": [
    "# count relevant records\n",
    "df.shape"
   ]
  },
  {
   "cell_type": "markdown",
   "metadata": {},
   "source": [
    "## Efficiency Calculation"
   ]
  },
  {
   "cell_type": "markdown",
   "metadata": {},
   "source": [
    "### Passenger per trip efficiency\n",
    "\n",
    "- We assume standard vehicle size suits 4 to 6 passengers. \n",
    "\n",
    "- Since there is no way of knowing the actual size of a vehicle from data, for each trip, we assume 4 to 6 as full load (100%).\n",
    "\n",
    "- For each passenger cound under 4, we calculate the loading efficiency by dividing 4."
   ]
  },
  {
   "cell_type": "code",
   "execution_count": 22,
   "metadata": {
    "collapsed": true
   },
   "outputs": [],
   "source": [
    "# create a new column as capacity\n",
    "# if the passenger count >= 4, the capacity = 100%\n",
    "# otherwise, capacity = passenger count / 4\n",
    "df['capacity'] = df['passenger_count'].apply(lambda x: 1 if x >=4 else x/4)"
   ]
  },
  {
   "cell_type": "code",
   "execution_count": 23,
   "metadata": {
    "collapsed": false
   },
   "outputs": [
    {
     "data": {
      "text/plain": [
       "0.25    8985317\n",
       "0.50    1698912\n",
       "1.00    1232087\n",
       "0.75     494674\n",
       "Name: capacity, dtype: int64"
      ]
     },
     "execution_count": 23,
     "metadata": {},
     "output_type": "execute_result"
    }
   ],
   "source": [
    "# counts for each capacity value\n",
    "df['capacity'].value_counts()"
   ]
  },
  {
   "cell_type": "code",
   "execution_count": 24,
   "metadata": {
    "collapsed": false
   },
   "outputs": [
    {
     "data": {
      "text/plain": [
       "12410990"
      ]
     },
     "execution_count": 24,
     "metadata": {},
     "output_type": "execute_result"
    }
   ],
   "source": [
    "df['capacity'].size"
   ]
  },
  {
   "cell_type": "markdown",
   "metadata": {},
   "source": [
    "### Speed Efficiency\n",
    "\n",
    "- Speed is calculated as miles/minute"
   ]
  },
  {
   "cell_type": "code",
   "execution_count": 25,
   "metadata": {
    "collapsed": true
   },
   "outputs": [],
   "source": [
    "# create a column as speed\n",
    "df['speed'] = df['trip_distance']/df['duration']"
   ]
  },
  {
   "cell_type": "code",
   "execution_count": 26,
   "metadata": {
    "collapsed": false
   },
   "outputs": [
    {
     "data": {
      "text/plain": [
       "count    1.241099e+07\n",
       "mean     2.294585e-01\n",
       "std      2.679473e+00\n",
       "min      1.035554e-04\n",
       "25%      1.264489e-01\n",
       "50%      1.733711e-01\n",
       "75%      2.347362e-01\n",
       "max      1.488000e+03\n",
       "Name: speed, dtype: float64"
      ]
     },
     "execution_count": 26,
     "metadata": {},
     "output_type": "execute_result"
    }
   ],
   "source": [
    "df['speed'].describe()"
   ]
  },
  {
   "cell_type": "markdown",
   "metadata": {},
   "source": [
    "### Export coordinates with index and use R to populate zipcode"
   ]
  },
  {
   "cell_type": "code",
   "execution_count": 32,
   "metadata": {},
   "outputs": [],
   "source": [
    "# export coordinates\n",
    "cols_to_export = ['dropoff_latitude', 'dropoff_longitude', 'pickup_latitude', 'pickup_longitude']\n",
    "df[cols_to_export].to_csv('coordinates.csv', sep = ',', index = True, header = True)"
   ]
  },
  {
   "cell_type": "code",
   "execution_count": 35,
   "metadata": {},
   "outputs": [
    {
     "data": {
      "text/plain": [
       "12410990"
      ]
     },
     "execution_count": 35,
     "metadata": {},
     "output_type": "execute_result"
    }
   ],
   "source": [
    "# import dropoff zipcodes\n",
    "zipcodes1 = pd.read_csv('zipcode.csv')\n",
    "zipcodes1.size"
   ]
  },
  {
   "cell_type": "code",
   "execution_count": 36,
   "metadata": {},
   "outputs": [],
   "source": [
    "df['dropoff_zipcode'] = zipcodes1"
   ]
  },
  {
   "cell_type": "code",
   "execution_count": 37,
   "metadata": {},
   "outputs": [
    {
     "data": {
      "text/plain": [
       "12410990"
      ]
     },
     "execution_count": 37,
     "metadata": {},
     "output_type": "execute_result"
    }
   ],
   "source": [
    "# import pickup zipcodes\n",
    "zipcodes2 = pd.read_csv('zipcode2.csv')\n",
    "zipcodes2.size"
   ]
  },
  {
   "cell_type": "code",
   "execution_count": 38,
   "metadata": {},
   "outputs": [],
   "source": [
    "df['pickup_zipcode'] = zipcodes2"
   ]
  },
  {
   "cell_type": "code",
   "execution_count": 39,
   "metadata": {
    "collapsed": false
   },
   "outputs": [
    {
     "data": {
      "text/plain": [
       "dropoff_datetime      datetime64[ns]\n",
       "dropoff_latitude             float64\n",
       "dropoff_longitude            float64\n",
       "duration                     float64\n",
       "passenger_count                int64\n",
       "pickup_datetime       datetime64[ns]\n",
       "pickup_latitude              float64\n",
       "pickup_longitude             float64\n",
       "ratecodeid                     int64\n",
       "timedifference       timedelta64[ns]\n",
       "tip_amount                   float64\n",
       "total_amount                 float64\n",
       "trip_distance                float64\n",
       "capacity                     float64\n",
       "speed                        float64\n",
       "dropoff_zipcode              float64\n",
       "pickup_zipcode               float64\n",
       "dtype: object"
      ]
     },
     "execution_count": 39,
     "metadata": {},
     "output_type": "execute_result"
    }
   ],
   "source": [
    "df.dtypes"
   ]
  },
  {
   "cell_type": "markdown",
   "metadata": {},
   "source": [
    "### Generate flags of pickup / dropoff zone"
   ]
  },
  {
   "cell_type": "code",
   "execution_count": 40,
   "metadata": {},
   "outputs": [],
   "source": [
    "# list of manhattan zipcodes\n",
    "manhattan_zip = [10026, 10027, 10030, 10037, 10039, 10029, 10035, 10010, 10016, 10017, 10022,\n",
    "                10012, 10013, 10014, 10004, 10005, 10006, 10007, 10038, 10280, 10002, 10003, \n",
    "                10009, 10021, 10028, 10044, 10065, 10075, 10128, 10023, 10024, 10025, 10031, \n",
    "                10032, 10033, 10034, 10040]\n",
    "# list of upper east side zipcodes\n",
    "upper_east_zip = [10021, 10028, 10044, 10065, 10075, 10128]\n",
    "# list of astoria zipcodes\n",
    "astoria_zip = [11101, 11102, 11103, 11104, 11105, 11106]"
   ]
  },
  {
   "cell_type": "code",
   "execution_count": 43,
   "metadata": {},
   "outputs": [],
   "source": [
    "df['manhattan_pickup'] = df['pickup_zipcode'].apply(lambda x: True if x in manhattan_zip else False)"
   ]
  },
  {
   "cell_type": "code",
   "execution_count": 44,
   "metadata": {},
   "outputs": [],
   "source": [
    "df['manhattan_dropoff'] = df['dropoff_zipcode'].apply(lambda x: True if x in manhattan_zip else False)"
   ]
  },
  {
   "cell_type": "code",
   "execution_count": 45,
   "metadata": {},
   "outputs": [],
   "source": [
    "df['upper_east_pickup'] = df['pickup_zipcode'].apply(lambda x: True if x in upper_east_zip else False)"
   ]
  },
  {
   "cell_type": "code",
   "execution_count": 46,
   "metadata": {},
   "outputs": [],
   "source": [
    "df['upper_east_dropoff'] = df['dropoff_zipcode'].apply(lambda x: True if x in upper_east_zip else False)"
   ]
  },
  {
   "cell_type": "code",
   "execution_count": 47,
   "metadata": {},
   "outputs": [],
   "source": [
    "df['astoria_pickup'] = df['pickup_zipcode'].apply(lambda x: True if x in astoria_zip else False)"
   ]
  },
  {
   "cell_type": "code",
   "execution_count": 48,
   "metadata": {},
   "outputs": [],
   "source": [
    "df['astoria_dropoff'] = df['dropoff_zipcode'].apply(lambda x: True if x in astoria_zip else False)"
   ]
  },
  {
   "cell_type": "code",
   "execution_count": 49,
   "metadata": {
    "collapsed": true
   },
   "outputs": [
    {
     "data": {
      "text/plain": [
       "dropoff_datetime       datetime64[ns]\n",
       "dropoff_latitude              float64\n",
       "dropoff_longitude             float64\n",
       "duration                      float64\n",
       "passenger_count                 int64\n",
       "pickup_datetime        datetime64[ns]\n",
       "pickup_latitude               float64\n",
       "pickup_longitude              float64\n",
       "ratecodeid                      int64\n",
       "timedifference        timedelta64[ns]\n",
       "tip_amount                    float64\n",
       "total_amount                  float64\n",
       "trip_distance                 float64\n",
       "capacity                      float64\n",
       "speed                         float64\n",
       "dropoff_zipcode               float64\n",
       "pickup_zipcode                float64\n",
       "manhattan_pickup                 bool\n",
       "manhattan_dropoff                bool\n",
       "upper_east_pickup                bool\n",
       "upper_east_dropoff               bool\n",
       "astoria_pickup                   bool\n",
       "astoria_dropoff                  bool\n",
       "dtype: object"
      ]
     },
     "execution_count": 49,
     "metadata": {},
     "output_type": "execute_result"
    }
   ],
   "source": [
    "df.dtypes"
   ]
  },
  {
   "cell_type": "markdown",
   "metadata": {},
   "source": [
    "### Analysis Question 1"
   ]
  },
  {
   "cell_type": "markdown",
   "metadata": {},
   "source": [
    "#### Efficiency of rides in Astoria"
   ]
  },
  {
   "cell_type": "code",
   "execution_count": 51,
   "metadata": {
    "collapsed": true
   },
   "outputs": [
    {
     "data": {
      "text/plain": [
       "(56610, 23)"
      ]
     },
     "execution_count": 51,
     "metadata": {},
     "output_type": "execute_result"
    }
   ],
   "source": [
    "df_astoria = df[(df['astoria_pickup'] == True) & (df['astoria_dropoff'] == True)]\n",
    "df_astoria.shape"
   ]
  },
  {
   "cell_type": "code",
   "execution_count": 52,
   "metadata": {
    "collapsed": true
   },
   "outputs": [],
   "source": [
    "df_astoria.to_csv('astoria.csv', header = True, index = False)"
   ]
  },
  {
   "cell_type": "code",
   "execution_count": 53,
   "metadata": {
    "collapsed": true
   },
   "outputs": [
    {
     "data": {
      "text/plain": [
       "count    56610.000000\n",
       "mean         0.257667\n",
       "std          3.976844\n",
       "min          0.000174\n",
       "25%          0.146829\n",
       "50%          0.188303\n",
       "75%          0.242915\n",
       "max        855.000000\n",
       "Name: speed, dtype: float64"
      ]
     },
     "execution_count": 53,
     "metadata": {},
     "output_type": "execute_result"
    }
   ],
   "source": [
    "df_astoria['speed'].describe()"
   ]
  },
  {
   "cell_type": "code",
   "execution_count": null,
   "metadata": {
    "collapsed": true
   },
   "outputs": [],
   "source": []
  },
  {
   "cell_type": "code",
   "execution_count": null,
   "metadata": {
    "collapsed": true
   },
   "outputs": [],
   "source": []
  },
  {
   "cell_type": "code",
   "execution_count": null,
   "metadata": {
    "collapsed": true
   },
   "outputs": [],
   "source": []
  }
 ],
 "metadata": {
  "kernelspec": {
   "display_name": "Python 3",
   "language": "python",
   "name": "python3"
  },
  "language_info": {
   "codemirror_mode": {
    "name": "ipython",
    "version": 3
   },
   "file_extension": ".py",
   "mimetype": "text/x-python",
   "name": "python",
   "nbconvert_exporter": "python",
   "pygments_lexer": "ipython3",
   "version": "3.6.0"
  }
 },
 "nbformat": 4,
 "nbformat_minor": 2
}
